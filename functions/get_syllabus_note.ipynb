{
 "cells": [
  {
   "cell_type": "code",
   "execution_count": 1,
   "metadata": {},
   "outputs": [],
   "source": [
    "import bs4\n",
    "import json"
   ]
  },
  {
   "cell_type": "code",
   "execution_count": 2,
   "metadata": {},
   "outputs": [],
   "source": [
    "with open(\"syllabus.html\", \"r\", newline=\"\", encoding=\"utf-8\") as f:\n",
    "    soups = bs4.BeautifulSoup(f.read(), \"html.parser\")"
   ]
  },
  {
   "cell_type": "code",
   "execution_count": 8,
   "metadata": {},
   "outputs": [],
   "source": [
    "soup = soups.select(\"#sytablenc > tbody > tr\")"
   ]
  },
  {
   "cell_type": "code",
   "execution_count": 73,
   "metadata": {},
   "outputs": [
    {
     "name": "stdout",
     "output_type": "stream",
     "text": [
      "0 <td class=\"c2\">専門</td>\n",
      "1 <td>必修</td>\n",
      "2 <td>\n",
      "<div class=\"subject-item\" id=\"subject_1037\">\n",
      "<a class=\"mcc-show\" href=\"https://syllabus.kosen-k.go.jp/Pages/PublicSyllabus?school_id=07&amp;department_id=20&amp;subject_id=1037&amp;year=2017&amp;lang=ja\">電気回路</a>\n",
      "<span class=\"mcc-hide\">電気回路</span>\n",
      "</div>\n",
      "</td>\n",
      "3 <td>1037</td>\n",
      "4 <td>学修単位</td>\n",
      "5 <td>2</td>\n",
      "6 <td class=\"c1m\"> </td>\n",
      "7 <td class=\"c1m\"></td>\n",
      "8 <td class=\"c2m\"></td>\n",
      "9 <td class=\"c2m\"></td>\n",
      "10 <td class=\"c3m\"></td>\n",
      "11 <td class=\"c3m\">2</td>\n",
      "12 <td class=\"c4m\"></td>\n",
      "13 <td class=\"c4m\"></td>\n",
      "14 <td class=\"c5m\"></td>\n",
      "15 <td class=\"c5m\"></td>\n",
      "16 <td width=\"122\">                                        \n",
      "                                        早川 吉弘,熊谷 和志,林 忠之                                        \n",
      "                                    </td>\n"
     ]
    }
   ],
   "source": [
    "for i, val in enumerate(soup[-4].find_all(\"td\")):\n",
    "    print(i, val)"
   ]
  },
  {
   "cell_type": "code",
   "execution_count": 71,
   "metadata": {},
   "outputs": [],
   "source": [
    "from pprint import pprint\n",
    "grade = [{},{},{}]\n",
    "i = 0\n",
    "for s in soup[3:-3]:\n",
    "    l = s.find_all(\"td\")\n",
    "#     print(l)\n",
    "    data = {\n",
    "        l[2].a.text: {\n",
    "            \"科目種別\": \"%s/%s\" % (l[0].text, l[1].text),\n",
    "            \"シラバスURL\": l[2].a.get(\"href\"),\n",
    "            \"単位種別\": l[4].text,\n",
    "            \"単位数\": int(l[5].text),\n",
    "            \"先生\": l[16].text.strip().split(\",\")\n",
    "        }\n",
    "    }\n",
    "    if l[6].text.strip() or l[7].text.strip():\n",
    "        grade[0].update(data)\n",
    "    elif l[8].text.strip() or l[9].text.strip():\n",
    "        grade[1].update(data)\n",
    "    elif l[10].text.strip() or l[11].text.strip():\n",
    "        grade[2].update(data)"
   ]
  },
  {
   "cell_type": "code",
   "execution_count": 72,
   "metadata": {},
   "outputs": [
    {
     "data": {
      "text/plain": [
       "{'国語Ⅲ': {'科目種別': '一般/必修',\n",
       "  'シラバスURL': 'https://syllabus.kosen-k.go.jp/Pages/PublicSyllabus?school_id=07&department_id=20&subject_id=1019&year=2017&lang=ja',\n",
       "  '単位種別': '履修単位',\n",
       "  '単位数': 2,\n",
       "  '先生': ['武田 拓']},\n",
       " '英語AⅢ': {'科目種別': '一般/必修',\n",
       "  'シラバスURL': 'https://syllabus.kosen-k.go.jp/Pages/PublicSyllabus?school_id=07&department_id=20&subject_id=1020&year=2017&lang=ja',\n",
       "  '単位種別': '履修単位',\n",
       "  '単位数': 2,\n",
       "  '先生': ['久保田 佳克']},\n",
       " '英語BⅢ': {'科目種別': '一般/必修',\n",
       "  'シラバスURL': 'https://syllabus.kosen-k.go.jp/Pages/PublicSyllabus?school_id=07&department_id=20&subject_id=1021&year=2017&lang=ja',\n",
       "  '単位種別': '履修単位',\n",
       "  '単位数': 2,\n",
       "  '先生': ['矢澤 睦']},\n",
       " '保健体育Ⅲ': {'科目種別': '一般/必修',\n",
       "  'シラバスURL': 'https://syllabus.kosen-k.go.jp/Pages/PublicSyllabus?school_id=07&department_id=20&subject_id=1022&year=2017&lang=ja',\n",
       "  '単位種別': '履修単位',\n",
       "  '単位数': 2,\n",
       "  '先生': ['兼村 裕介']},\n",
       " '微分積分Ⅱ': {'科目種別': '一般/必修',\n",
       "  'シラバスURL': 'https://syllabus.kosen-k.go.jp/Pages/PublicSyllabus?school_id=07&department_id=20&subject_id=1023&year=2017&lang=ja',\n",
       "  '単位種別': '履修単位',\n",
       "  '単位数': 4,\n",
       "  '先生': ['佐藤 健太郎']},\n",
       " '物理Ⅲ': {'科目種別': '一般/必修',\n",
       "  'シラバスURL': 'https://syllabus.kosen-k.go.jp/Pages/PublicSyllabus?school_id=07&department_id=20&subject_id=1024&year=2017&lang=ja',\n",
       "  '単位種別': '履修単位',\n",
       "  '単位数': 2,\n",
       "  '先生': ['穂坂 紀子', '加賀谷 美佳', '松枝 宏明']},\n",
       " '確率・統計': {'科目種別': '専門/必修',\n",
       "  'シラバスURL': 'https://syllabus.kosen-k.go.jp/Pages/PublicSyllabus?school_id=07&department_id=20&subject_id=1025&year=2017&lang=ja',\n",
       "  '単位種別': '履修単位',\n",
       "  '単位数': 1,\n",
       "  '先生': ['川崎 浩司']},\n",
       " 'プログラミング': {'科目種別': '専門/必修',\n",
       "  'シラバスURL': 'https://syllabus.kosen-k.go.jp/Pages/PublicSyllabus?school_id=07&department_id=20&subject_id=1026&year=2017&lang=ja',\n",
       "  '単位種別': '履修単位',\n",
       "  '単位数': 2,\n",
       "  '先生': ['奧村 俊昭']},\n",
       " 'ネットワーク基礎': {'科目種別': '専門/必修',\n",
       "  'シラバスURL': 'https://syllabus.kosen-k.go.jp/Pages/PublicSyllabus?school_id=07&department_id=20&subject_id=1027&year=2017&lang=ja',\n",
       "  '単位種別': '履修単位',\n",
       "  '単位数': 2,\n",
       "  '先生': ['小林 秀幸', '岩井 克全', '速水 健一']},\n",
       " 'コンピュータシステム基礎': {'科目種別': '専門/必修',\n",
       "  'シラバスURL': 'https://syllabus.kosen-k.go.jp/Pages/PublicSyllabus?school_id=07&department_id=20&subject_id=1028&year=2017&lang=ja',\n",
       "  '単位種別': '履修単位',\n",
       "  '単位数': 2,\n",
       "  '先生': ['平塚 眞彦', '菅野 浩徳', '張 暁勇']},\n",
       " 'マイクロコンピュータ基礎': {'科目種別': '専門/必修',\n",
       "  'シラバスURL': 'https://syllabus.kosen-k.go.jp/Pages/PublicSyllabus?school_id=07&department_id=20&subject_id=1029&year=2017&lang=ja',\n",
       "  '単位種別': '履修単位',\n",
       "  '単位数': 2,\n",
       "  '先生': ['大場 譲', '力武 克彰']},\n",
       " '回路実習基礎': {'科目種別': '専門/必修',\n",
       "  'シラバスURL': 'https://syllabus.kosen-k.go.jp/Pages/PublicSyllabus?school_id=07&department_id=20&subject_id=1030&year=2017&lang=ja',\n",
       "  '単位種別': '履修単位',\n",
       "  '単位数': 2,\n",
       "  '先生': ['那須 潜思', '竹島 久志', '白根 崇']},\n",
       " '第Ⅰ類基礎実験': {'科目種別': '専門/必修',\n",
       "  'シラバスURL': 'https://syllabus.kosen-k.go.jp/Pages/PublicSyllabus?school_id=07&department_id=20&subject_id=1031&year=2017&lang=ja',\n",
       "  '単位種別': '履修単位',\n",
       "  '単位数': 4,\n",
       "  '先生': ['岡本 圭史',\n",
       "   '白根 崇',\n",
       "   '早川 吉弘',\n",
       "   '力武 克彰',\n",
       "   '矢島 邦昭',\n",
       "   '小林 秀幸',\n",
       "   '岩井 克全',\n",
       "   '速水 健一']},\n",
       " '応用プログラミング': {'科目種別': '専門/選択',\n",
       "  'シラバスURL': 'https://syllabus.kosen-k.go.jp/Pages/PublicSyllabus?school_id=07&department_id=20&subject_id=1034&year=2017&lang=ja',\n",
       "  '単位種別': '学修単位',\n",
       "  '単位数': 2,\n",
       "  '先生': ['矢島 邦昭']},\n",
       " '電気回路': {'科目種別': '専門/必修',\n",
       "  'シラバスURL': 'https://syllabus.kosen-k.go.jp/Pages/PublicSyllabus?school_id=07&department_id=20&subject_id=1037&year=2017&lang=ja',\n",
       "  '単位種別': '学修単位',\n",
       "  '単位数': 2,\n",
       "  '先生': ['早川 吉弘', '熊谷 和志', '林 忠之']}}"
      ]
     },
     "execution_count": 72,
     "metadata": {},
     "output_type": "execute_result"
    }
   ],
   "source": [
    "grade[2]"
   ]
  },
  {
   "cell_type": "code",
   "execution_count": 68,
   "metadata": {},
   "outputs": [],
   "source": []
  },
  {
   "cell_type": "code",
   "execution_count": 70,
   "metadata": {},
   "outputs": [
    {
     "data": {
      "text/plain": [
       "{'IS3': {'国語Ⅲ': {'ID': '19IS3AL0001',\n",
       "   '1H単位': 2,\n",
       "   '2H単位': 2,\n",
       "   '先生': ['武田 拓'],\n",
       "   'シラバスURL': 'https://syllabus.kosen-k.go.jp/Pages/PublicSyllabus?school_id=07&department_id=20&subject_id=1019&year=2017&lang=ja'},\n",
       "  '英語AⅢ': {'ID': '19IS3AL0002',\n",
       "   '1H単位': 2,\n",
       "   '2H単位': 2,\n",
       "   '先生': ['久保田 佳克'],\n",
       "   'シラバスURL': 'https://syllabus.kosen-k.go.jp/Pages/PublicSyllabus?school_id=07&department_id=20&subject_id=1020&year=2017&lang=ja'},\n",
       "  '英語BⅢ': {'ID': '19IS3AL0003',\n",
       "   '1H単位': 2,\n",
       "   '2H単位': 2,\n",
       "   '先生': ['矢澤 睦'],\n",
       "   'シラバスURL': 'https://syllabus.kosen-k.go.jp/Pages/PublicSyllabus?school_id=07&department_id=20&subject_id=1021&year=2017&lang=ja'},\n",
       "  '保健体育Ⅲ': {'ID': '19IS3AL0004',\n",
       "   '1H単位': 2,\n",
       "   '2H単位': 2,\n",
       "   '先生': ['兼村 裕介'],\n",
       "   'シラバスURL': 'https://syllabus.kosen-k.go.jp/Pages/PublicSyllabus?school_id=07&department_id=20&subject_id=1022&year=2017&lang=ja'}},\n",
       " 'IE3': {'国語Ⅲ': {'ID': '19IE3AL0001',\n",
       "   '1H単位': 2,\n",
       "   '2H単位': 2,\n",
       "   '先生': ['武田 拓'],\n",
       "   'シラバスURL': 'https://syllabus.kosen-k.go.jp/Pages/PublicSyllabus?school_id=07&department_id=20&subject_id=1019&year=2017&lang=ja'},\n",
       "  '英語AⅢ': {'ID': '19IE3AL0002',\n",
       "   '1H単位': 2,\n",
       "   '2H単位': 2,\n",
       "   '先生': ['久保田 佳克'],\n",
       "   'シラバスURL': 'https://syllabus.kosen-k.go.jp/Pages/PublicSyllabus?school_id=07&department_id=20&subject_id=1020&year=2017&lang=ja'},\n",
       "  '英語BⅢ': {'ID': '19IE3AL0003',\n",
       "   '1H単位': 2,\n",
       "   '2H単位': 2,\n",
       "   '先生': ['矢澤 睦'],\n",
       "   'シラバスURL': 'https://syllabus.kosen-k.go.jp/Pages/PublicSyllabus?school_id=07&department_id=20&subject_id=1021&year=2017&lang=ja'},\n",
       "  '保健体育Ⅲ': {'ID': '19IE3AL0004',\n",
       "   '1H単位': 2,\n",
       "   '2H単位': 2,\n",
       "   '先生': ['兼村 裕介'],\n",
       "   'シラバスURL': 'https://syllabus.kosen-k.go.jp/Pages/PublicSyllabus?school_id=07&department_id=20&subject_id=1022&year=2017&lang=ja'}}}"
      ]
     },
     "execution_count": 70,
     "metadata": {},
     "output_type": "execute_result"
    }
   ],
   "source": [
    "json.loads(old_json)"
   ]
  },
  {
   "cell_type": "code",
   "execution_count": null,
   "metadata": {},
   "outputs": [],
   "source": []
  }
 ],
 "metadata": {
  "kernelspec": {
   "display_name": "Python 3",
   "language": "python",
   "name": "python3"
  },
  "language_info": {
   "codemirror_mode": {
    "name": "ipython",
    "version": 3
   },
   "file_extension": ".py",
   "mimetype": "text/x-python",
   "name": "python",
   "nbconvert_exporter": "python",
   "pygments_lexer": "ipython3",
   "version": "3.6.9"
  }
 },
 "nbformat": 4,
 "nbformat_minor": 4
}
